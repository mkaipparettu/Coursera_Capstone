{
    "nbformat_minor": 1, 
    "cells": [
        {
            "source": "## Identifying the Best Location for a Motel in Calcasieu Parish, Louisiana\n", 
            "cell_type": "markdown", 
            "metadata": {
                "collapsed": true
            }
        }, 
        {
            "source": "\nTable of Contents\n1. Introduction\n2. Description of the Data\n3. Methodology\n4. Results\n5. Discussion\n6. Conclusion", 
            "cell_type": "markdown", 
            "metadata": {}
        }, 
        {
            "source": "##  1. Introduction\nThe main objective of this project is to find an ideal location which is suitable to start a new motel in the neighborhoods of Calcasieu Parish.\n\n#### Stakeholders\nEcono Lodge is an economy motel chain based in the United States and Canada. Econo Lodge is the second-largest brand in the Choice Hotels system. Choice Hotels plans to add more new-construction properties to the Econo Lodge brand and would like to start a new Econo Lodge near Calcasieu Parish, Louisiana. Therefore my goal is to determine an ideal location around the neighborhood of Calcasieu Parish that is suitable to start a Motel Business.\n\n#### Location\nCalcasieu Parish is part of the Lake Charles, with a population of 194,138. Lake Charles has the biggest casino market in the state of Louisiana. Calcasieu Parish was created March 24, 1840, from the parish of Saint Landry, one of the original nineteen civil parishes established by the Louisiana Legislature in 1807. It is also located near the Beaumont\u2013Port Arthur (Texas), Lafayette, and Alexandria metropolitan areas. As the population in this area grew over the years, the original Calcasieu Parish has since been divided into five smaller parishes. Louisiana state has total of 36 Parish(borough) and 304 neighborhoods.\n\nAs the stakeholders wants to find the ideal location around Calcasieu Parish' neighborhoods. There are 6 neighborhood of Calcasieu Parish - DeQuincy, Iowa, Lake Charles, Sulphur, Vinton and Westlake. I will be using Foursquare API to explore neighborhoods in Calcasieu Parish and Folium library to visualize the neighborhoods of Calcasieu Parish.In an addition, we will be building a classification model that can help us to identify suitable location in order to start a Motel business. Finally, the overall process and methodologies that are used to obtain results will be presented to the stakeholders Choice Hotels system.", 
            "cell_type": "markdown", 
            "metadata": {}
        }, 
        {
            "source": "##  2.Description of the Data\nThis project required two datasets. The first dataset is available on Wikipedia that contains the list of municipalities of Louisiana. The link address to the dataset is https://en.wikipedia.org/wiki/List_of_municipalities_in_Louisiana. We can extract data in the panda data-frame by scraping the html link stated above. This dataset contains the data about all the neighborhood of the Louisiana State, their populations and population density.This dataset contains the information about 36 borough and it\u2019s 304 neighborhoods.\n\nThe second dataset contains the information about the latitude and longitude of the neighborhood of Calcasieu Parish of Louisiana. This dataset is also extracted scraping the web page as stated above and combining the geographical information from a csv file\n\nUsing the Foursquare API, we will explore and collect the additional data such as numbers of Motels, Casinos, Restaurants  and many more in the neighborhoods of Calcasieu Parish. This dataset will be merged to the other two datasets and final dataset will be passed to the classification model.", 
            "cell_type": "markdown", 
            "attachments": {}, 
            "metadata": {}
        }, 
        {
            "execution_count": 3, 
            "cell_type": "code", 
            "metadata": {}, 
            "outputs": [
                {
                    "output_type": "stream", 
                    "name": "stdout", 
                    "text": "Solving environment: done\n\n## Package Plan ##\n\n  environment location: /opt/conda/envs/DSX-Python35\n\n  added / updated specs: \n    - geopy\n\n\nThe following packages will be downloaded:\n\n    package                    |            build\n    ---------------------------|-----------------\n    geographiclib-1.49         |             py_0          32 KB  conda-forge\n    openssl-1.0.2r             |       h14c3975_0         3.1 MB  conda-forge\n    certifi-2018.8.24          |        py35_1001         139 KB  conda-forge\n    ca-certificates-2019.3.9   |       hecc5488_0         146 KB  conda-forge\n    geopy-1.20.0               |             py_0          57 KB  conda-forge\n    ------------------------------------------------------------\n                                           Total:         3.5 MB\n\nThe following NEW packages will be INSTALLED:\n\n    geographiclib:   1.49-py_0         conda-forge\n    geopy:           1.20.0-py_0       conda-forge\n\nThe following packages will be UPDATED:\n\n    ca-certificates: 2019.1.23-0                   --> 2019.3.9-hecc5488_0 conda-forge\n    certifi:         2018.8.24-py35_1              --> 2018.8.24-py35_1001 conda-forge\n\nThe following packages will be DOWNGRADED:\n\n    openssl:         1.0.2s-h7b6447c_0             --> 1.0.2r-h14c3975_0   conda-forge\n\n\nDownloading and Extracting Packages\ngeographiclib-1.49   | 32 KB     | ##################################### | 100% \nopenssl-1.0.2r       | 3.1 MB    | ##################################### | 100% \ncertifi-2018.8.24    | 139 KB    | ##################################### | 100% \nca-certificates-2019 | 146 KB    | ##################################### | 100% \ngeopy-1.20.0         | 57 KB     | ##################################### | 100% \nPreparing transaction: done\nVerifying transaction: done\nExecuting transaction: done\nSolving environment: done\n\n## Package Plan ##\n\n  environment location: /opt/conda/envs/DSX-Python35\n\n  added / updated specs: \n    - folium=0.5.0\n\n\nThe following packages will be downloaded:\n\n    package                    |            build\n    ---------------------------|-----------------\n    folium-0.5.0               |             py_0          45 KB  conda-forge\n    altair-2.2.2               |           py35_1         462 KB  conda-forge\n    vincent-0.4.4              |             py_1          28 KB  conda-forge\n    branca-0.3.1               |             py_0          25 KB  conda-forge\n    ------------------------------------------------------------\n                                           Total:         560 KB\n\nThe following NEW packages will be INSTALLED:\n\n    altair:  2.2.2-py35_1 conda-forge\n    branca:  0.3.1-py_0   conda-forge\n    folium:  0.5.0-py_0   conda-forge\n    vincent: 0.4.4-py_1   conda-forge\n\n\nDownloading and Extracting Packages\nfolium-0.5.0         | 45 KB     | ##################################### | 100% \naltair-2.2.2         | 462 KB    | ##################################### | 100% \nvincent-0.4.4        | 28 KB     | ##################################### | 100% \nbranca-0.3.1         | 25 KB     | ##################################### | 100% \nPreparing transaction: done\nVerifying transaction: done\nExecuting transaction: done\nLibraries imported.\n"
                }
            ], 
            "source": "# Downloading all the dependencies that are required for this project.\n# library to handle data in a vectorized manner\nimport numpy as np\n# library for data analsysis\nimport pandas as pd\npd.set_option('display.max_columns', None)\npd.set_option('display.max_rows', None)\n# library to handle JSON files\nimport json\n# uncomment this line if you haven't completed the Foursquare API lab\n!conda install -c conda-forge geopy --yes\n# convert an address into latitude and longitude values\nfrom geopy.geocoders import Nominatim\n\nimport requests # library to handle requests\nfrom pandas.io.json import json_normalize # tranform JSON file into a pandas dataframe\n\n# Matplotlib and associated plotting modules\nimport matplotlib.cm as cm\nimport matplotlib.colors as colors\n\n# import k-means from clustering stage\nfrom sklearn.cluster import KMeans\n\n!conda install -c conda-forge folium=0.5.0 --yes # uncomment this line if you haven't completed the Foursquare API lab\nimport folium # map rendering library\n\nprint('Libraries imported.')"
        }, 
        {
            "source": "Loading data from https://en.wikipedia.org/wiki/List_of_municipalities_in_Louisiana", 
            "cell_type": "markdown", 
            "metadata": {}
        }, 
        {
            "execution_count": 108, 
            "cell_type": "code", 
            "metadata": {}, 
            "outputs": [], 
            "source": "link = \"https://en.wikipedia.org/wiki/List_of_municipalities_in_Louisiana\"\ndf = pd.read_html(link,header=0)[0]"
        }, 
        {
            "source": "Load data from csv file", 
            "cell_type": "markdown", 
            "metadata": {}
        }, 
        {
            "execution_count": 109, 
            "cell_type": "code", 
            "metadata": {}, 
            "outputs": [
                {
                    "execution_count": 109, 
                    "metadata": {}, 
                    "data": {
                        "text/html": "<div>\n<style scoped>\n    .dataframe tbody tr th:only-of-type {\n        vertical-align: middle;\n    }\n\n    .dataframe tbody tr th {\n        vertical-align: top;\n    }\n\n    .dataframe thead th {\n        text-align: right;\n    }\n</style>\n<table border=\"1\" class=\"dataframe\">\n  <thead>\n    <tr style=\"text-align: right;\">\n      <th></th>\n      <th>Neighborhood</th>\n      <th>Latitude</th>\n      <th>Longitude</th>\n      <th>Unnamed: 3</th>\n    </tr>\n  </thead>\n  <tbody>\n    <tr>\n      <th>0</th>\n      <td>DeQuincy</td>\n      <td>30.4505</td>\n      <td>-93.4332</td>\n      <td>NaN</td>\n    </tr>\n    <tr>\n      <th>1</th>\n      <td>Iowa</td>\n      <td>30.2369</td>\n      <td>-93.4332</td>\n      <td>NaN</td>\n    </tr>\n    <tr>\n      <th>2</th>\n      <td>Lake Charles</td>\n      <td>30.2266</td>\n      <td>-93.2174</td>\n      <td>NaN</td>\n    </tr>\n    <tr>\n      <th>3</th>\n      <td>Sulphur</td>\n      <td>30.2366</td>\n      <td>-93.3774</td>\n      <td>NaN</td>\n    </tr>\n    <tr>\n      <th>4</th>\n      <td>Vinton</td>\n      <td>30.1908</td>\n      <td>-93.5813</td>\n      <td>NaN</td>\n    </tr>\n  </tbody>\n</table>\n</div>", 
                        "text/plain": "   Neighborhood  Latitude  Longitude  Unnamed: 3\n0      DeQuincy   30.4505   -93.4332         NaN\n1          Iowa   30.2369   -93.4332         NaN\n2  Lake Charles   30.2266   -93.2174         NaN\n3       Sulphur   30.2366   -93.3774         NaN\n4        Vinton   30.1908   -93.5813         NaN"
                    }, 
                    "output_type": "execute_result"
                }
            ], 
            "source": "# The code was removed by Watson Studio for sharing."
        }, 
        {
            "source": "Cleaning and Pre-Processing the data", 
            "cell_type": "markdown", 
            "metadata": {}
        }, 
        {
            "execution_count": 110, 
            "cell_type": "code", 
            "metadata": {}, 
            "outputs": [], 
            "source": "\n# Select the only required columns of data frame \ndf = df[['Parish[1]','Name','Population(2000)[1]','Population(2010)[1]', 'Population density']]\n# Replace columns names\ndf = df.rename(columns = {'Parish[1]':'Borough'})\ndf = df.rename(columns = {'Name':'Neighborhood'})\ndf = df.rename(columns = {'Population(2010)[1]':'Population_2010'})\ndf = df.rename(columns = {'Population(2000)[1]':'Population_2000'})\ndf = df.rename(columns = {'Population density':'Population_density'})\n# Remove the empty rows of Data Frame\ndf = df.iloc[1:305].reset_index(drop=True)"
        }, 
        {
            "execution_count": 111, 
            "cell_type": "code", 
            "metadata": {}, 
            "outputs": [
                {
                    "execution_count": 111, 
                    "metadata": {}, 
                    "data": {
                        "text/html": "<div>\n<style scoped>\n    .dataframe tbody tr th:only-of-type {\n        vertical-align: middle;\n    }\n\n    .dataframe tbody tr th {\n        vertical-align: top;\n    }\n\n    .dataframe thead th {\n        text-align: right;\n    }\n</style>\n<table border=\"1\" class=\"dataframe\">\n  <thead>\n    <tr style=\"text-align: right;\">\n      <th></th>\n      <th>Borough</th>\n      <th>Neighborhood</th>\n      <th>Population_2000</th>\n      <th>Population_2010</th>\n      <th>Population_density</th>\n    </tr>\n  </thead>\n  <tbody>\n    <tr>\n      <th>0</th>\n      <td>Calcasieu</td>\n      <td>DeQuincy</td>\n      <td>3398.0</td>\n      <td>3235.0</td>\n      <td>8.2</td>\n    </tr>\n    <tr>\n      <th>1</th>\n      <td>Calcasieu</td>\n      <td>Iowa</td>\n      <td>2663.0</td>\n      <td>2996.0</td>\n      <td>8.2</td>\n    </tr>\n    <tr>\n      <th>2</th>\n      <td>Calcasieu</td>\n      <td>Lake Charles</td>\n      <td>71757.0</td>\n      <td>71993.0</td>\n      <td>108.9</td>\n    </tr>\n    <tr>\n      <th>3</th>\n      <td>Calcasieu</td>\n      <td>Sulphur</td>\n      <td>20512.0</td>\n      <td>20410.0</td>\n      <td>25.9</td>\n    </tr>\n    <tr>\n      <th>4</th>\n      <td>Calcasieu</td>\n      <td>Vinton</td>\n      <td>3338.0</td>\n      <td>3212.0</td>\n      <td>12.9</td>\n    </tr>\n  </tbody>\n</table>\n</div>", 
                        "text/plain": "     Borough  Neighborhood  Population_2000  Population_2010  \\\n0  Calcasieu      DeQuincy           3398.0           3235.0   \n1  Calcasieu          Iowa           2663.0           2996.0   \n2  Calcasieu  Lake Charles          71757.0          71993.0   \n3  Calcasieu       Sulphur          20512.0          20410.0   \n4  Calcasieu        Vinton           3338.0           3212.0   \n\n   Population_density  \n0                 8.2  \n1                 8.2  \n2               108.9  \n3                25.9  \n4                12.9  "
                    }, 
                    "output_type": "execute_result"
                }
            ], 
            "source": "# Create the data frame for Calcasieu parish, la populations\npopulation_data = df[df['Borough'] == 'Calcasieu'].reset_index(drop=True)\npopulation_data.head()"
        }, 
        {
            "execution_count": 112, 
            "cell_type": "code", 
            "metadata": {}, 
            "outputs": [
                {
                    "execution_count": 112, 
                    "metadata": {}, 
                    "data": {
                        "text/html": "<div>\n<style scoped>\n    .dataframe tbody tr th:only-of-type {\n        vertical-align: middle;\n    }\n\n    .dataframe tbody tr th {\n        vertical-align: top;\n    }\n\n    .dataframe thead th {\n        text-align: right;\n    }\n</style>\n<table border=\"1\" class=\"dataframe\">\n  <thead>\n    <tr style=\"text-align: right;\">\n      <th></th>\n      <th>Borough</th>\n      <th>Neighborhood</th>\n      <th>Latitude</th>\n      <th>Longitude</th>\n    </tr>\n  </thead>\n  <tbody>\n    <tr>\n      <th>0</th>\n      <td>Calcasieu</td>\n      <td>DeQuincy</td>\n      <td>30.4505</td>\n      <td>-93.4332</td>\n    </tr>\n    <tr>\n      <th>1</th>\n      <td>Calcasieu</td>\n      <td>Iowa</td>\n      <td>30.2369</td>\n      <td>-93.4332</td>\n    </tr>\n    <tr>\n      <th>2</th>\n      <td>Calcasieu</td>\n      <td>Lake Charles</td>\n      <td>30.2266</td>\n      <td>-93.2174</td>\n    </tr>\n    <tr>\n      <th>3</th>\n      <td>Calcasieu</td>\n      <td>Sulphur</td>\n      <td>30.2366</td>\n      <td>-93.3774</td>\n    </tr>\n    <tr>\n      <th>4</th>\n      <td>Calcasieu</td>\n      <td>Vinton</td>\n      <td>30.1908</td>\n      <td>-93.5813</td>\n    </tr>\n    <tr>\n      <th>5</th>\n      <td>Calcasieu</td>\n      <td>Westlake</td>\n      <td>30.2421</td>\n      <td>-93.2507</td>\n    </tr>\n  </tbody>\n</table>\n</div>", 
                        "text/plain": "     Borough  Neighborhood  Latitude  Longitude\n0  Calcasieu      DeQuincy   30.4505   -93.4332\n1  Calcasieu          Iowa   30.2369   -93.4332\n2  Calcasieu  Lake Charles   30.2266   -93.2174\n3  Calcasieu       Sulphur   30.2366   -93.3774\n4  Calcasieu        Vinton   30.1908   -93.5813\n5  Calcasieu      Westlake   30.2421   -93.2507"
                    }, 
                    "output_type": "execute_result"
                }
            ], 
            "source": "# Create the data frame for Calcasieu parish, la\ncalcasieu_data = df[df['Borough'] == 'Calcasieu'].reset_index(drop=False)\n# Select the columns Borough and Neighborhood\ncalcasieu_data = calcasieu_data[['Borough','Neighborhood']]\n# Geo Data \ndf_geo = df_geo[['Neighborhood','Latitude','Longitude']]\n# Tranform the data into a *pandas* dataframe by merging two dataframe\ncalcasieu_data = pd.merge(calcasieu_data, df_geo, on =['Neighborhood'])\ncalcasieu_data"
        }, 
        {
            "source": "## 3. Methodology", 
            "cell_type": "markdown", 
            "metadata": {}
        }, 
        {
            "source": "Foursquare Credentials and Version", 
            "cell_type": "markdown", 
            "metadata": {}
        }, 
        {
            "execution_count": 113, 
            "cell_type": "code", 
            "metadata": {}, 
            "outputs": [], 
            "source": "# The code was removed by Watson Studio for sharing."
        }, 
        {
            "execution_count": 114, 
            "cell_type": "code", 
            "metadata": {}, 
            "outputs": [
                {
                    "output_type": "stream", 
                    "name": "stdout", 
                    "text": "The geograpical coordinate of Calcasieu Parish, La are 30.2232015, -93.3434067.\n"
                }
            ], 
            "source": "#geographical coordinates of Calcasieu Parish, La\naddress = 'Calcasieu, LA'\ngeolocator = Nominatim(user_agent=\"foursquare_agent\")\nlocation = geolocator.geocode(address)\nlatitude = location.latitude\nlongitude = location.longitude\nprint('The geograpical coordinate of Calcasieu Parish, La are {}, {}.'.format(latitude, longitude))"
        }, 
        {
            "execution_count": 115, 
            "cell_type": "code", 
            "metadata": {}, 
            "outputs": [
                {
                    "execution_count": 115, 
                    "metadata": {}, 
                    "data": {
                        "text/html": "<div style=\"width:100%;\"><div style=\"position:relative;width:100%;height:0;padding-bottom:60%;\"><iframe src=\"data:text/html;charset=utf-8;base64,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\" style=\"position:absolute;width:100%;height:100%;left:0;top:0;border:none !important;\" allowfullscreen webkitallowfullscreen mozallowfullscreen></iframe></div></div>", 
                        "text/plain": "<folium.folium.Map at 0x7fee6d213f60>"
                    }, 
                    "output_type": "execute_result"
                }
            ], 
            "source": "# create map of Calcasieu Parish using latitude and longitude values\nmap_calcasieu = folium.Map(location=[latitude, longitude], zoom_start=11)\n# add markers to map\nfor lat, lng, label in zip(calcasieu_data['Latitude'], calcasieu_data['Longitude'], calcasieu_data['Neighborhood']):\n    label = folium.Popup(label, parse_html=True)\n    folium.CircleMarker(\n        [lat, lng],\n        radius=5,\n        popup=label,\n        color='blue',\n        fill=True,\n        fill_color='#3186cc',\n        fill_opacity=0.7,\n        parse_html=False).add_to(map_calcasieu)  \n    \nmap_calcasieu"
        }, 
        {
            "execution_count": 116, 
            "cell_type": "code", 
            "metadata": {}, 
            "outputs": [], 
            "source": "# Parameters for Foursquare API\nLIMIT = 500\naddress = 'Calcasieu, LA'\ngeolocator = Nominatim(user_agent=\"foursquare_agent\")\nlocation = geolocator.geocode(address)\nlatitude = location.latitude\nlongitude = location.longitude\nradius = 50000"
        }, 
        {
            "source": "In this section we are exploring the important attributes that plays the vital role in solving the business problem and collect the data about them using the Foursquare API. Hence, we are exploring and collecting the data in the Calcasieu, Parish about - \n- a. Numbers of Motels\n- b. Numbers of Casinos \n- c. Numbers of Restaurants", 
            "cell_type": "markdown", 
            "metadata": {}
        }, 
        {
            "source": "#### Motels", 
            "cell_type": "markdown", 
            "metadata": {}
        }, 
        {
            "execution_count": 117, 
            "cell_type": "code", 
            "metadata": {}, 
            "outputs": [
                {
                    "execution_count": 117, 
                    "metadata": {}, 
                    "data": {
                        "text/html": "<div>\n<style scoped>\n    .dataframe tbody tr th:only-of-type {\n        vertical-align: middle;\n    }\n\n    .dataframe tbody tr th {\n        vertical-align: top;\n    }\n\n    .dataframe thead th {\n        text-align: right;\n    }\n</style>\n<table border=\"1\" class=\"dataframe\">\n  <thead>\n    <tr style=\"text-align: right;\">\n      <th></th>\n      <th>Neighborhood</th>\n      <th>Num_Motel</th>\n    </tr>\n  </thead>\n  <tbody>\n    <tr>\n      <th>0</th>\n      <td>Groves</td>\n      <td>1</td>\n    </tr>\n    <tr>\n      <th>1</th>\n      <td>Kinder</td>\n      <td>1</td>\n    </tr>\n    <tr>\n      <th>2</th>\n      <td>Lake Charles</td>\n      <td>3</td>\n    </tr>\n    <tr>\n      <th>3</th>\n      <td>Orange</td>\n      <td>1</td>\n    </tr>\n    <tr>\n      <th>4</th>\n      <td>Port Arthur</td>\n      <td>1</td>\n    </tr>\n  </tbody>\n</table>\n</div>", 
                        "text/plain": "   Neighborhood  Num_Motel\n0        Groves          1\n1        Kinder          1\n2  Lake Charles          3\n3        Orange          1\n4   Port Arthur          1"
                    }, 
                    "output_type": "execute_result"
                }
            ], 
            "source": "# Search Query\nsearch_query = 'Motel'\n# url\nurl = 'https://api.foursquare.com/v2/venues/search?client_id={}&client_secret={}&ll={},{}&v={}&query={}&radius={}&limit={}'.format(CLIENT_ID, CLIENT_SECRET, latitude, longitude, VERSION, search_query, radius, LIMIT)\n# Search results\nresults = requests.get(url).json()\n# assign relevant part of JSON to venues\nvenues = results['response']['venues']\n# tranform venues into a dataframe\ndataframe = json_normalize(venues)\ndataframe = dataframe[['name','location.city']]\n# Rename\ndataframe = dataframe.rename(columns = {'location.city':'Neighborhood'})\n# Drop NaN values\ndataframe = dataframe.dropna(axis = 0, how='all')\n#dataframe.head(2)\ndataframe_motel = dataframe.groupby('Neighborhood').count().reset_index()\ndataframe_motel = dataframe_motel.rename(columns = {'name':'Num_Motel'})\n# Convert type as Integer\ndataframe_motel['Num_Motel'].astype(int)\nfinal_data = pd.merge(calcasieu_data, dataframe_motel, on = 'Neighborhood', how = 'outer')\ndataframe_motel.head()"
        }, 
        {
            "source": "#### Casino", 
            "cell_type": "markdown", 
            "metadata": {}
        }, 
        {
            "execution_count": 118, 
            "cell_type": "code", 
            "metadata": {}, 
            "outputs": [
                {
                    "execution_count": 118, 
                    "metadata": {}, 
                    "data": {
                        "text/html": "<div>\n<style scoped>\n    .dataframe tbody tr th:only-of-type {\n        vertical-align: middle;\n    }\n\n    .dataframe tbody tr th {\n        vertical-align: top;\n    }\n\n    .dataframe thead th {\n        text-align: right;\n    }\n</style>\n<table border=\"1\" class=\"dataframe\">\n  <thead>\n    <tr style=\"text-align: right;\">\n      <th></th>\n      <th>Neighborhood</th>\n      <th>Num_Casino</th>\n    </tr>\n  </thead>\n  <tbody>\n    <tr>\n      <th>0</th>\n      <td>Kinder</td>\n      <td>3</td>\n    </tr>\n    <tr>\n      <th>1</th>\n      <td>Lake Charles</td>\n      <td>17</td>\n    </tr>\n    <tr>\n      <th>2</th>\n      <td>Sulphur</td>\n      <td>2</td>\n    </tr>\n    <tr>\n      <th>3</th>\n      <td>Vinton</td>\n      <td>4</td>\n    </tr>\n    <tr>\n      <th>4</th>\n      <td>Welsh</td>\n      <td>1</td>\n    </tr>\n  </tbody>\n</table>\n</div>", 
                        "text/plain": "   Neighborhood  Num_Casino\n0        Kinder           3\n1  Lake Charles          17\n2       Sulphur           2\n3        Vinton           4\n4         Welsh           1"
                    }, 
                    "output_type": "execute_result"
                }
            ], 
            "source": "# Search Query\nsearch_query = 'Casino'\n# url\nurl = 'https://api.foursquare.com/v2/venues/search?client_id={}&client_secret={}&ll={},{}&v={}&query={}&radius={}&limit={}'.format(CLIENT_ID, CLIENT_SECRET, latitude, longitude, VERSION, search_query, radius, LIMIT)\n# Search results\nresults = requests.get(url).json()\n# assign relevant part of JSON to venues\nvenues = results['response']['venues']\n# tranform venues into a dataframe\ndataframe = json_normalize(venues)\ndataframe = dataframe[['name','location.city']]\n# Rename\ndataframe = dataframe.rename(columns = {'location.city':'Neighborhood'})\n# Drop NaN values\ndataframe = dataframe.dropna(axis = 0, how='all')\n#dataframe.head(2)\ndataframe_casino = dataframe.groupby('Neighborhood').count().reset_index()\ndataframe_casino = dataframe_casino.rename(columns = {'name':'Num_Casino'})\n# Convert type as Integer\ndataframe_casino['Num_Casino'].astype(int)\nfinal_data = pd.merge(final_data, dataframe_casino, on = 'Neighborhood', how = 'outer')\ndataframe_casino.head()"
        }, 
        {
            "source": "#### Restaurants", 
            "cell_type": "markdown", 
            "metadata": {}
        }, 
        {
            "execution_count": 119, 
            "cell_type": "code", 
            "metadata": {}, 
            "outputs": [
                {
                    "execution_count": 119, 
                    "metadata": {}, 
                    "data": {
                        "text/html": "<div>\n<style scoped>\n    .dataframe tbody tr th:only-of-type {\n        vertical-align: middle;\n    }\n\n    .dataframe tbody tr th {\n        vertical-align: top;\n    }\n\n    .dataframe thead th {\n        text-align: right;\n    }\n</style>\n<table border=\"1\" class=\"dataframe\">\n  <thead>\n    <tr style=\"text-align: right;\">\n      <th></th>\n      <th>Neighborhood</th>\n      <th>Num_Restaurant</th>\n    </tr>\n  </thead>\n  <tbody>\n    <tr>\n      <th>0</th>\n      <td>Bridge City</td>\n      <td>1</td>\n    </tr>\n    <tr>\n      <th>1</th>\n      <td>DeQuincy</td>\n      <td>1</td>\n    </tr>\n    <tr>\n      <th>2</th>\n      <td>Lake Charles</td>\n      <td>29</td>\n    </tr>\n    <tr>\n      <th>3</th>\n      <td>Moss Bluff</td>\n      <td>1</td>\n    </tr>\n    <tr>\n      <th>4</th>\n      <td>Orange</td>\n      <td>7</td>\n    </tr>\n  </tbody>\n</table>\n</div>", 
                        "text/plain": "   Neighborhood  Num_Restaurant\n0   Bridge City               1\n1      DeQuincy               1\n2  Lake Charles              29\n3    Moss Bluff               1\n4        Orange               7"
                    }, 
                    "output_type": "execute_result"
                }
            ], 
            "source": "# Search Query\nsearch_query = 'Restaurant'\n# url\nurl = 'https://api.foursquare.com/v2/venues/search?client_id={}&client_secret={}&ll={},{}&v={}&query={}&radius={}&limit={}'.format(CLIENT_ID, CLIENT_SECRET, latitude, longitude, VERSION, search_query, radius, LIMIT)\n# Search results\nresults = requests.get(url).json()\n# assign relevant part of JSON to venues\nvenues = results['response']['venues']\n# tranform venues into a dataframe\ndataframe = json_normalize(venues)\ndataframe = dataframe[['name','location.city']]\n# Rename\ndataframe = dataframe.rename(columns = {'location.city':'Neighborhood'})\n# Drop NaN values\ndataframe = dataframe.dropna(axis = 0, how='all')\n#dataframe.head(2)\ndataframe_rest = dataframe.groupby('Neighborhood').count().reset_index()\ndataframe_rest = dataframe_rest.rename(columns = {'name':'Num_Restaurant'})\n# Convert type as Integer\ndataframe_rest['Num_Restaurant'].astype(int)\nfinal_data = pd.merge(final_data, dataframe_rest, on = 'Neighborhood', how = 'outer')\ndataframe_rest.head()"
        }, 
        {
            "source": "#### Merge data", 
            "cell_type": "markdown", 
            "metadata": {}
        }, 
        {
            "execution_count": 120, 
            "cell_type": "code", 
            "metadata": {}, 
            "outputs": [
                {
                    "execution_count": 120, 
                    "metadata": {}, 
                    "data": {
                        "text/html": "<div>\n<style scoped>\n    .dataframe tbody tr th:only-of-type {\n        vertical-align: middle;\n    }\n\n    .dataframe tbody tr th {\n        vertical-align: top;\n    }\n\n    .dataframe thead th {\n        text-align: right;\n    }\n</style>\n<table border=\"1\" class=\"dataframe\">\n  <thead>\n    <tr style=\"text-align: right;\">\n      <th></th>\n      <th>Borough</th>\n      <th>Neighborhood</th>\n      <th>Latitude</th>\n      <th>Longitude</th>\n      <th>Num_Motel</th>\n      <th>Num_Casino</th>\n      <th>Num_Restaurant</th>\n      <th>Population_2000</th>\n      <th>Population_2010</th>\n      <th>Population_density</th>\n    </tr>\n  </thead>\n  <tbody>\n    <tr>\n      <th>0</th>\n      <td>Calcasieu</td>\n      <td>DeQuincy</td>\n      <td>30.4505</td>\n      <td>-93.4332</td>\n      <td>0.0</td>\n      <td>0.0</td>\n      <td>1.0</td>\n      <td>3398.0</td>\n      <td>3235.0</td>\n      <td>8.2</td>\n    </tr>\n    <tr>\n      <th>1</th>\n      <td>Calcasieu</td>\n      <td>Iowa</td>\n      <td>30.2369</td>\n      <td>-93.4332</td>\n      <td>0.0</td>\n      <td>0.0</td>\n      <td>0.0</td>\n      <td>2663.0</td>\n      <td>2996.0</td>\n      <td>8.2</td>\n    </tr>\n    <tr>\n      <th>2</th>\n      <td>Calcasieu</td>\n      <td>Lake Charles</td>\n      <td>30.2266</td>\n      <td>-93.2174</td>\n      <td>3.0</td>\n      <td>17.0</td>\n      <td>29.0</td>\n      <td>71757.0</td>\n      <td>71993.0</td>\n      <td>108.9</td>\n    </tr>\n    <tr>\n      <th>3</th>\n      <td>Calcasieu</td>\n      <td>Sulphur</td>\n      <td>30.2366</td>\n      <td>-93.3774</td>\n      <td>3.0</td>\n      <td>2.0</td>\n      <td>5.0</td>\n      <td>20512.0</td>\n      <td>20410.0</td>\n      <td>25.9</td>\n    </tr>\n    <tr>\n      <th>4</th>\n      <td>Calcasieu</td>\n      <td>Vinton</td>\n      <td>30.1908</td>\n      <td>-93.5813</td>\n      <td>1.0</td>\n      <td>4.0</td>\n      <td>3.0</td>\n      <td>3338.0</td>\n      <td>3212.0</td>\n      <td>12.9</td>\n    </tr>\n    <tr>\n      <th>5</th>\n      <td>Calcasieu</td>\n      <td>Westlake</td>\n      <td>30.2421</td>\n      <td>-93.2507</td>\n      <td>0.0</td>\n      <td>5.0</td>\n      <td>1.0</td>\n      <td>4668.0</td>\n      <td>4568.0</td>\n      <td>9.5</td>\n    </tr>\n  </tbody>\n</table>\n</div>", 
                        "text/plain": "     Borough  Neighborhood  Latitude  Longitude  Num_Motel  Num_Casino  \\\n0  Calcasieu      DeQuincy   30.4505   -93.4332        0.0         0.0   \n1  Calcasieu          Iowa   30.2369   -93.4332        0.0         0.0   \n2  Calcasieu  Lake Charles   30.2266   -93.2174        3.0        17.0   \n3  Calcasieu       Sulphur   30.2366   -93.3774        3.0         2.0   \n4  Calcasieu        Vinton   30.1908   -93.5813        1.0         4.0   \n5  Calcasieu      Westlake   30.2421   -93.2507        0.0         5.0   \n\n   Num_Restaurant  Population_2000  Population_2010  Population_density  \n0             1.0           3398.0           3235.0                 8.2  \n1             0.0           2663.0           2996.0                 8.2  \n2            29.0          71757.0          71993.0               108.9  \n3             5.0          20512.0          20410.0                25.9  \n4             3.0           3338.0           3212.0                12.9  \n5             1.0           4668.0           4568.0                 9.5  "
                    }, 
                    "output_type": "execute_result"
                }
            ], 
            "source": "final_data = final_data.loc[(final_data['Neighborhood'] == 'DeQuincy') | (final_data['Neighborhood'] == 'Iowa') | (final_data['Neighborhood'] == 'Lake Charles') |(final_data['Neighborhood'] == 'Sulphur') | (final_data['Neighborhood'] == 'Vinton')|(final_data['Neighborhood'] == 'Westlake')]\nfinal_data = final_data.fillna(0)\n# Merge the final data with population data\ncalcasieu_final_data = pd.merge(final_data, population_data, on =['Neighborhood','Borough'])\ncalcasieu_final_data"
        }, 
        {
            "source": "#### K-means Clustering", 
            "cell_type": "markdown", 
            "metadata": {}
        }, 
        {
            "execution_count": 121, 
            "cell_type": "code", 
            "metadata": {}, 
            "outputs": [
                {
                    "execution_count": 121, 
                    "metadata": {}, 
                    "data": {
                        "text/html": "<div>\n<style scoped>\n    .dataframe tbody tr th:only-of-type {\n        vertical-align: middle;\n    }\n\n    .dataframe tbody tr th {\n        vertical-align: top;\n    }\n\n    .dataframe thead th {\n        text-align: right;\n    }\n</style>\n<table border=\"1\" class=\"dataframe\">\n  <thead>\n    <tr style=\"text-align: right;\">\n      <th></th>\n      <th>Neighborhood</th>\n      <th>Num_Motel</th>\n      <th>Num_Casino</th>\n      <th>Num_Restaurant</th>\n      <th>Population_2000</th>\n      <th>Population_2010</th>\n      <th>Population_density</th>\n    </tr>\n  </thead>\n  <tbody>\n    <tr>\n      <th>0</th>\n      <td>DeQuincy</td>\n      <td>0.0</td>\n      <td>0.0</td>\n      <td>1.0</td>\n      <td>3398.0</td>\n      <td>3235.0</td>\n      <td>8.2</td>\n    </tr>\n    <tr>\n      <th>1</th>\n      <td>Iowa</td>\n      <td>0.0</td>\n      <td>0.0</td>\n      <td>0.0</td>\n      <td>2663.0</td>\n      <td>2996.0</td>\n      <td>8.2</td>\n    </tr>\n    <tr>\n      <th>2</th>\n      <td>Lake Charles</td>\n      <td>3.0</td>\n      <td>17.0</td>\n      <td>29.0</td>\n      <td>71757.0</td>\n      <td>71993.0</td>\n      <td>108.9</td>\n    </tr>\n    <tr>\n      <th>3</th>\n      <td>Sulphur</td>\n      <td>3.0</td>\n      <td>2.0</td>\n      <td>5.0</td>\n      <td>20512.0</td>\n      <td>20410.0</td>\n      <td>25.9</td>\n    </tr>\n    <tr>\n      <th>4</th>\n      <td>Vinton</td>\n      <td>1.0</td>\n      <td>4.0</td>\n      <td>3.0</td>\n      <td>3338.0</td>\n      <td>3212.0</td>\n      <td>12.9</td>\n    </tr>\n    <tr>\n      <th>5</th>\n      <td>Westlake</td>\n      <td>0.0</td>\n      <td>5.0</td>\n      <td>1.0</td>\n      <td>4668.0</td>\n      <td>4568.0</td>\n      <td>9.5</td>\n    </tr>\n  </tbody>\n</table>\n</div>", 
                        "text/plain": "   Neighborhood  Num_Motel  Num_Casino  Num_Restaurant  Population_2000  \\\n0      DeQuincy        0.0         0.0             1.0           3398.0   \n1          Iowa        0.0         0.0             0.0           2663.0   \n2  Lake Charles        3.0        17.0            29.0          71757.0   \n3       Sulphur        3.0         2.0             5.0          20512.0   \n4        Vinton        1.0         4.0             3.0           3338.0   \n5      Westlake        0.0         5.0             1.0           4668.0   \n\n   Population_2010  Population_density  \n0           3235.0                 8.2  \n1           2996.0                 8.2  \n2          71993.0               108.9  \n3          20410.0                25.9  \n4           3212.0                12.9  \n5           4568.0                 9.5  "
                    }, 
                    "output_type": "execute_result"
                }
            ], 
            "source": "# Drop the unnecessary Columns\ncalcasieu_final_data = calcasieu_final_data.drop('Borough', 1)\ncalcasieu_final_data = calcasieu_final_data.drop('Latitude', 1)\ncalcasieu_final_data = calcasieu_final_data.drop('Longitude', 1)\ncalcasieu_final_data"
        }, 
        {
            "execution_count": 122, 
            "cell_type": "code", 
            "metadata": {}, 
            "outputs": [
                {
                    "execution_count": 122, 
                    "metadata": {}, 
                    "data": {
                        "text/plain": "array([0, 0, 1, 2, 0, 0], dtype=int32)"
                    }, 
                    "output_type": "execute_result"
                }
            ], 
            "source": "from sklearn.preprocessing import StandardScaler\n# set number of clusters\nkclusters = 3\ncalcasieu_grouped_clustering = calcasieu_final_data.drop('Neighborhood', 1)\n# Normalize the dataset\nX = calcasieu_grouped_clustering.values[:,1:]\nX = np.nan_to_num(X)\ncluster_dataset = StandardScaler().fit_transform(X)\n# run k-means clustering\nkmeans = KMeans(n_clusters=kclusters, random_state=0).fit(cluster_dataset)\n# check cluster labels generated for each row in the dataframe\nkmeans.labels_[0:10]"
        }, 
        {
            "execution_count": 123, 
            "cell_type": "code", 
            "metadata": {}, 
            "outputs": [
                {
                    "execution_count": 123, 
                    "metadata": {}, 
                    "data": {
                        "text/html": "<div>\n<style scoped>\n    .dataframe tbody tr th:only-of-type {\n        vertical-align: middle;\n    }\n\n    .dataframe tbody tr th {\n        vertical-align: top;\n    }\n\n    .dataframe thead th {\n        text-align: right;\n    }\n</style>\n<table border=\"1\" class=\"dataframe\">\n  <thead>\n    <tr style=\"text-align: right;\">\n      <th></th>\n      <th>Borough</th>\n      <th>Neighborhood</th>\n      <th>Latitude</th>\n      <th>Longitude</th>\n      <th>Cluster Labels</th>\n      <th>Num_Motel</th>\n      <th>Num_Casino</th>\n      <th>Num_Restaurant</th>\n      <th>Population_2000</th>\n      <th>Population_2010</th>\n      <th>Population_density</th>\n    </tr>\n  </thead>\n  <tbody>\n    <tr>\n      <th>0</th>\n      <td>Calcasieu</td>\n      <td>DeQuincy</td>\n      <td>30.4505</td>\n      <td>-93.4332</td>\n      <td>0</td>\n      <td>0.0</td>\n      <td>0.0</td>\n      <td>1.0</td>\n      <td>3398.0</td>\n      <td>3235.0</td>\n      <td>8.2</td>\n    </tr>\n    <tr>\n      <th>1</th>\n      <td>Calcasieu</td>\n      <td>Iowa</td>\n      <td>30.2369</td>\n      <td>-93.4332</td>\n      <td>0</td>\n      <td>0.0</td>\n      <td>0.0</td>\n      <td>0.0</td>\n      <td>2663.0</td>\n      <td>2996.0</td>\n      <td>8.2</td>\n    </tr>\n    <tr>\n      <th>2</th>\n      <td>Calcasieu</td>\n      <td>Lake Charles</td>\n      <td>30.2266</td>\n      <td>-93.2174</td>\n      <td>1</td>\n      <td>3.0</td>\n      <td>17.0</td>\n      <td>29.0</td>\n      <td>71757.0</td>\n      <td>71993.0</td>\n      <td>108.9</td>\n    </tr>\n    <tr>\n      <th>3</th>\n      <td>Calcasieu</td>\n      <td>Sulphur</td>\n      <td>30.2366</td>\n      <td>-93.3774</td>\n      <td>2</td>\n      <td>3.0</td>\n      <td>2.0</td>\n      <td>5.0</td>\n      <td>20512.0</td>\n      <td>20410.0</td>\n      <td>25.9</td>\n    </tr>\n    <tr>\n      <th>4</th>\n      <td>Calcasieu</td>\n      <td>Vinton</td>\n      <td>30.1908</td>\n      <td>-93.5813</td>\n      <td>0</td>\n      <td>1.0</td>\n      <td>4.0</td>\n      <td>3.0</td>\n      <td>3338.0</td>\n      <td>3212.0</td>\n      <td>12.9</td>\n    </tr>\n    <tr>\n      <th>5</th>\n      <td>Calcasieu</td>\n      <td>Westlake</td>\n      <td>30.2421</td>\n      <td>-93.2507</td>\n      <td>0</td>\n      <td>0.0</td>\n      <td>5.0</td>\n      <td>1.0</td>\n      <td>4668.0</td>\n      <td>4568.0</td>\n      <td>9.5</td>\n    </tr>\n  </tbody>\n</table>\n</div>", 
                        "text/plain": "     Borough  Neighborhood  Latitude  Longitude  Cluster Labels  Num_Motel  \\\n0  Calcasieu      DeQuincy   30.4505   -93.4332               0        0.0   \n1  Calcasieu          Iowa   30.2369   -93.4332               0        0.0   \n2  Calcasieu  Lake Charles   30.2266   -93.2174               1        3.0   \n3  Calcasieu       Sulphur   30.2366   -93.3774               2        3.0   \n4  Calcasieu        Vinton   30.1908   -93.5813               0        1.0   \n5  Calcasieu      Westlake   30.2421   -93.2507               0        0.0   \n\n   Num_Casino  Num_Restaurant  Population_2000  Population_2010  \\\n0         0.0             1.0           3398.0           3235.0   \n1         0.0             0.0           2663.0           2996.0   \n2        17.0            29.0          71757.0          71993.0   \n3         2.0             5.0          20512.0          20410.0   \n4         4.0             3.0           3338.0           3212.0   \n5         5.0             1.0           4668.0           4568.0   \n\n   Population_density  \n0                 8.2  \n1                 8.2  \n2               108.9  \n3                25.9  \n4                12.9  \n5                 9.5  "
                    }, 
                    "output_type": "execute_result"
                }
            ], 
            "source": "# merge the dataframe with cluster label\ncalcasieu_merged = calcasieu_data\n\n# add clustering labels\ncalcasieu_merged['Cluster Labels'] = kmeans.labels_\n\n# merge toronto_grouped with toronto_data to add latitude/longitude for each neighborhood\ncalcasieu_merged = calcasieu_merged.join(calcasieu_final_data.set_index('Neighborhood'), on='Neighborhood')\n\ncalcasieu_merged # check the last columns!"
        }, 
        {
            "source": "## 4.Results", 
            "cell_type": "markdown", 
            "metadata": {}
        }, 
        {
            "source": "#### cluster 1", 
            "cell_type": "markdown", 
            "metadata": {}
        }, 
        {
            "execution_count": 124, 
            "cell_type": "code", 
            "metadata": {}, 
            "outputs": [
                {
                    "execution_count": 124, 
                    "metadata": {}, 
                    "data": {
                        "text/html": "<div>\n<style scoped>\n    .dataframe tbody tr th:only-of-type {\n        vertical-align: middle;\n    }\n\n    .dataframe tbody tr th {\n        vertical-align: top;\n    }\n\n    .dataframe thead th {\n        text-align: right;\n    }\n</style>\n<table border=\"1\" class=\"dataframe\">\n  <thead>\n    <tr style=\"text-align: right;\">\n      <th></th>\n      <th>Neighborhood</th>\n      <th>Num_Motel</th>\n      <th>Num_Casino</th>\n      <th>Num_Restaurant</th>\n      <th>Population_2000</th>\n      <th>Population_2010</th>\n      <th>Population_density</th>\n    </tr>\n  </thead>\n  <tbody>\n    <tr>\n      <th>0</th>\n      <td>DeQuincy</td>\n      <td>0.0</td>\n      <td>0.0</td>\n      <td>1.0</td>\n      <td>3398.0</td>\n      <td>3235.0</td>\n      <td>8.2</td>\n    </tr>\n    <tr>\n      <th>1</th>\n      <td>Iowa</td>\n      <td>0.0</td>\n      <td>0.0</td>\n      <td>0.0</td>\n      <td>2663.0</td>\n      <td>2996.0</td>\n      <td>8.2</td>\n    </tr>\n    <tr>\n      <th>4</th>\n      <td>Vinton</td>\n      <td>1.0</td>\n      <td>4.0</td>\n      <td>3.0</td>\n      <td>3338.0</td>\n      <td>3212.0</td>\n      <td>12.9</td>\n    </tr>\n    <tr>\n      <th>5</th>\n      <td>Westlake</td>\n      <td>0.0</td>\n      <td>5.0</td>\n      <td>1.0</td>\n      <td>4668.0</td>\n      <td>4568.0</td>\n      <td>9.5</td>\n    </tr>\n  </tbody>\n</table>\n</div>", 
                        "text/plain": "  Neighborhood  Num_Motel  Num_Casino  Num_Restaurant  Population_2000  \\\n0     DeQuincy        0.0         0.0             1.0           3398.0   \n1         Iowa        0.0         0.0             0.0           2663.0   \n4       Vinton        1.0         4.0             3.0           3338.0   \n5     Westlake        0.0         5.0             1.0           4668.0   \n\n   Population_2010  Population_density  \n0           3235.0                 8.2  \n1           2996.0                 8.2  \n4           3212.0                12.9  \n5           4568.0                 9.5  "
                    }, 
                    "output_type": "execute_result"
                }
            ], 
            "source": "cluster_one = calcasieu_merged.loc[calcasieu_merged['Cluster Labels'] == 0, calcasieu_merged.columns[[1] + list(range(5, calcasieu_merged.shape[1]))]]\ncluster_one.head()"
        }, 
        {
            "source": "#### cluster 2", 
            "cell_type": "markdown", 
            "metadata": {}
        }, 
        {
            "execution_count": 125, 
            "cell_type": "code", 
            "metadata": {}, 
            "outputs": [
                {
                    "execution_count": 125, 
                    "metadata": {}, 
                    "data": {
                        "text/html": "<div>\n<style scoped>\n    .dataframe tbody tr th:only-of-type {\n        vertical-align: middle;\n    }\n\n    .dataframe tbody tr th {\n        vertical-align: top;\n    }\n\n    .dataframe thead th {\n        text-align: right;\n    }\n</style>\n<table border=\"1\" class=\"dataframe\">\n  <thead>\n    <tr style=\"text-align: right;\">\n      <th></th>\n      <th>Neighborhood</th>\n      <th>Num_Motel</th>\n      <th>Num_Casino</th>\n      <th>Num_Restaurant</th>\n      <th>Population_2000</th>\n      <th>Population_2010</th>\n      <th>Population_density</th>\n    </tr>\n  </thead>\n  <tbody>\n    <tr>\n      <th>2</th>\n      <td>Lake Charles</td>\n      <td>3.0</td>\n      <td>17.0</td>\n      <td>29.0</td>\n      <td>71757.0</td>\n      <td>71993.0</td>\n      <td>108.9</td>\n    </tr>\n  </tbody>\n</table>\n</div>", 
                        "text/plain": "   Neighborhood  Num_Motel  Num_Casino  Num_Restaurant  Population_2000  \\\n2  Lake Charles        3.0        17.0            29.0          71757.0   \n\n   Population_2010  Population_density  \n2          71993.0               108.9  "
                    }, 
                    "output_type": "execute_result"
                }
            ], 
            "source": "cluster_two = calcasieu_merged.loc[calcasieu_merged['Cluster Labels'] == 1, calcasieu_merged.columns[[1] + list(range(5, calcasieu_merged.shape[1]))]]\ncluster_two"
        }, 
        {
            "source": "#### cluster 3", 
            "cell_type": "markdown", 
            "metadata": {}
        }, 
        {
            "execution_count": 126, 
            "cell_type": "code", 
            "metadata": {}, 
            "outputs": [
                {
                    "execution_count": 126, 
                    "metadata": {}, 
                    "data": {
                        "text/html": "<div>\n<style scoped>\n    .dataframe tbody tr th:only-of-type {\n        vertical-align: middle;\n    }\n\n    .dataframe tbody tr th {\n        vertical-align: top;\n    }\n\n    .dataframe thead th {\n        text-align: right;\n    }\n</style>\n<table border=\"1\" class=\"dataframe\">\n  <thead>\n    <tr style=\"text-align: right;\">\n      <th></th>\n      <th>Neighborhood</th>\n      <th>Num_Motel</th>\n      <th>Num_Casino</th>\n      <th>Num_Restaurant</th>\n      <th>Population_2000</th>\n      <th>Population_2010</th>\n      <th>Population_density</th>\n    </tr>\n  </thead>\n  <tbody>\n    <tr>\n      <th>3</th>\n      <td>Sulphur</td>\n      <td>3.0</td>\n      <td>2.0</td>\n      <td>5.0</td>\n      <td>20512.0</td>\n      <td>20410.0</td>\n      <td>25.9</td>\n    </tr>\n  </tbody>\n</table>\n</div>", 
                        "text/plain": "  Neighborhood  Num_Motel  Num_Casino  Num_Restaurant  Population_2000  \\\n3      Sulphur        3.0         2.0             5.0          20512.0   \n\n   Population_2010  Population_density  \n3          20410.0                25.9  "
                    }, 
                    "output_type": "execute_result"
                }
            ], 
            "source": "cluster_three = calcasieu_merged.loc[calcasieu_merged['Cluster Labels'] == 2, calcasieu_merged.columns[[1] + list(range(5, calcasieu_merged.shape[1]))]]\ncluster_three"
        }, 
        {
            "execution_count": 127, 
            "cell_type": "code", 
            "metadata": {}, 
            "outputs": [
                {
                    "execution_count": 127, 
                    "metadata": {}, 
                    "data": {
                        "text/html": "<div style=\"width:100%;\"><div style=\"position:relative;width:100%;height:0;padding-bottom:60%;\"><iframe src=\"data:text/html;charset=utf-8;base64,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\" style=\"position:absolute;width:100%;height:100%;left:0;top:0;border:none !important;\" allowfullscreen webkitallowfullscreen mozallowfullscreen></iframe></div></div>", 
                        "text/plain": "<folium.folium.Map at 0x7fee7b0664e0>"
                    }, 
                    "output_type": "execute_result"
                }
            ], 
            "source": "# create map\nmap_clusters = folium.Map(location=[latitude, longitude], zoom_start=11)\n\n# set color scheme for the clusters\nx = np.arange(kclusters)\nys = [i + x + (i*x)**2 for i in range(kclusters)]\ncolors_array = cm.rainbow(np.linspace(0, 1, len(ys)))\nrainbow = [colors.rgb2hex(i) for i in colors_array]\n\n# add markers to the map\nmarkers_colors = []\nfor lat, lon, poi, cluster in zip(calcasieu_merged['Latitude'], calcasieu_merged['Longitude'], calcasieu_merged['Neighborhood'], calcasieu_merged['Cluster Labels']):\n    label = folium.Popup(str(poi) + ' Cluster ' + str(cluster), parse_html=True)\n    folium.CircleMarker(\n        [lat, lon],\n        radius=5,\n        popup=label,\n        color=rainbow[cluster-1],\n        fill=True,\n        fill_color=rainbow[cluster-1],\n        fill_opacity=0.7).add_to(map_clusters)\n       \nmap_clusters"
        }, 
        {
            "source": "## 5. Discussion", 
            "cell_type": "markdown", 
            "metadata": {}
        }, 
        {
            "source": "Calcasieu Parish of Louisiana has 6 neighborhood. And the goal was to identify the best location to open the motel business in the neighborhood of Calcasieu Parish. The result obtained from the models shows that the data is classified three different clusters. \n\n- Cluster 1 ------ DeQuincy, Iowa, Vinton, Westlake \n- Cluster 2 ------ Lake Charles \n- Cluster 3 ---- Sulphur ", 
            "cell_type": "markdown", 
            "metadata": {}
        }, 
        {
            "source": "### Observation and Recommendations\n\nAnalyzing the results obtained in the result sections using the k-means algorithms as follows:\n\n\n#### Cluster 1\nThe results suggests that the numbers of Casinos, and Restaurants are less as compared to cluster 2. In addition, population density is also very low in all the neighborhood of cluster 1. Comparing the population in the period of 2000 to 2010, the rate of increase in population is significantly low.\n\nHence, it will not be wise decision to start the Motel in neighborhood occupied by this cluster.\n\n#### Cluster 2\nThere are higher numbers  of Casinos, and Restaurants in cluster two as compared to other clusters. In addition, population density is also significantly high in comparison to other clusters. But, Comparing the population in the period of 2000 to 2010, the rate of increase in population is significantly low. Even though the number of Motel is same as Cluster 3, but the number of Casino  and Restaurants are high.\n\nHence, I would recommended cluster 2 neighborhoods an ideal destination to start Motel business.\n\n#### Cluster 3\nThe results suggests that the numbers of Casinos, and Restaurants are less as compared to cluster 2. In addition, population density is also very low in all the neighborhood of cluster 3\n\nHence, it will not be wise decision to start the Motel in neighborhood occupied by this cluster.\n", 
            "cell_type": "markdown", 
            "metadata": {}
        }, 
        {
            "source": "## 6.Conclusion", 
            "cell_type": "markdown", 
            "metadata": {}
        }, 
        {
            "source": "The main objective of this project is to demonstrate the concepts of recommendation systems/techniques that are used to solve the real business problems. In our case, we developed a model that can easily help us to determine the best location in Calcasieu Parish of Lousiana to start a Motel business. The result from our model recommended us that cluster 3  only neighborhood *** Lake Charles, La *** is the ideal location to start the Motel business.", 
            "cell_type": "markdown", 
            "metadata": {}
        }, 
        {
            "execution_count": null, 
            "cell_type": "code", 
            "metadata": {}, 
            "outputs": [], 
            "source": ""
        }
    ], 
    "metadata": {
        "kernelspec": {
            "display_name": "Python 3.5", 
            "name": "python3", 
            "language": "python"
        }, 
        "language_info": {
            "mimetype": "text/x-python", 
            "nbconvert_exporter": "python", 
            "version": "3.5.5", 
            "name": "python", 
            "file_extension": ".py", 
            "pygments_lexer": "ipython3", 
            "codemirror_mode": {
                "version": 3, 
                "name": "ipython"
            }
        }
    }, 
    "nbformat": 4
}