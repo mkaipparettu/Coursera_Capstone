{
    "nbformat_minor": 1, 
    "cells": [
        {
            "source": "## Introduction/Business Problem:   Identifying the Best Location for a Motel in Calcasieu Parish, Louisiana\n", 
            "cell_type": "markdown", 
            "metadata": {
                "collapsed": true
            }
        }, 
        {
            "source": "### Objective\n\nThe main objective of this project is to find an ideal location which is suitable to start a new motel in the neighborhoods of Calcasieu Parish.\n\n### Stakeholders\n\nEcono Lodge is an economy motel chain based in the United States and Canada. Econo Lodge is the second-largest brand in the Choice Hotels system. Choice Hotels plans to add more new-construction properties to the Econo Lodge brand and would like to start a new Econo Lodge near Calcasieu Parish, Louisiana.  Therefore my goal is to determine an ideal location around the neighborhood of Calcasieu Parish that is suitable to start a Motel Business. \n\n### Location\n\nCalcasieu Parish is part of the Lake Charles, with a population of 194,138. Lake Charles has the biggest casino market in the state of Louisiana. Calcasieu Parish was created March 24, 1840, from the parish of Saint Landry, one of the original nineteen civil parishes established by the Louisiana Legislature in 1807. It is also located near the Beaumont\u2013Port Arthur (Texas), Lafayette, and Alexandria metropolitan areas. As the population in this area grew over the years, the original Calcasieu Parish has since been divided into five smaller parishes. Louisiana state has total of 36 Parish(borough) and 304 neighborhoods.\n\nAs the stakeholders wants to find the ideal location around Calcasieu Parish' neighborhoods. There are 6 neighborhood of Calcasieu Parish - DeQuincy, Iowa, Lake Charles, Sulphur, Vinton and Westlake. I will be using Foursquare API to explore neighborhoods in Calcasieu Parish and Folium library to visualize the neighborhoods of Calcasieu Parish.In an addition, we will be building a classification model that can help us to identify suitable location in order to start a Motel business. Finally, the overall process and methodologies that are used to obtain results will be presented to the stakeholders Choice Hotels system.\n", 
            "cell_type": "markdown", 
            "metadata": {}
        }, 
        {
            "execution_count": null, 
            "cell_type": "code", 
            "metadata": {}, 
            "outputs": [], 
            "source": ""
        }
    ], 
    "metadata": {
        "kernelspec": {
            "display_name": "Python 3.5", 
            "name": "python3", 
            "language": "python"
        }, 
        "language_info": {
            "mimetype": "text/x-python", 
            "nbconvert_exporter": "python", 
            "version": "3.5.5", 
            "name": "python", 
            "file_extension": ".py", 
            "pygments_lexer": "ipython3", 
            "codemirror_mode": {
                "version": 3, 
                "name": "ipython"
            }
        }
    }, 
    "nbformat": 4
}