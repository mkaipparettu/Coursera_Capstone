{
    "nbformat_minor": 1, 
    "cells": [
        {
            "source": "##  Description of the Data\n", 
            "cell_type": "markdown", 
            "metadata": {
                "collapsed": true
            }
        }, 
        {
            "source": "This project required two datasets. The first dataset is available on Wikipedia that contains the list of municipalities of Louisiana. \nThe link address to the dataset is https://en.wikipedia.org/wiki/List_of_municipalities_in_Louisiana. \nWe can extract data in the panda data-frame by scraping the html link stated above. This dataset contains the data about all the neighborhood of the Louisiana State, their populations and population density.This dataset contains the information about 36 borough and it\u2019s 304 neighborhoods.\n\nThe second dataset contains the information about the latitude and longitude of the neighborhood of Calcasieu Parish of Louisiana. This dataset is also extracted scraping the web page as stated above and combining the geograpical infomration from a csv file\n\nUsing the Foursquare API, we will explore and collect the additional data such as numbers of motels,gas stations, schools, restaurants, apartments, hospitals and many more in the neighborhoods of Calcasieu Parish. This dataset will be merged to the other two datasets and final dataset will be passed to the classification model.", 
            "cell_type": "markdown", 
            "metadata": {}
        }, 
        {
            "execution_count": null, 
            "cell_type": "code", 
            "metadata": {}, 
            "outputs": [], 
            "source": ""
        }
    ], 
    "metadata": {
        "kernelspec": {
            "display_name": "Python 3.5", 
            "name": "python3", 
            "language": "python"
        }, 
        "language_info": {
            "mimetype": "text/x-python", 
            "nbconvert_exporter": "python", 
            "version": "3.5.5", 
            "name": "python", 
            "file_extension": ".py", 
            "pygments_lexer": "ipython3", 
            "codemirror_mode": {
                "version": 3, 
                "name": "ipython"
            }
        }
    }, 
    "nbformat": 4
}